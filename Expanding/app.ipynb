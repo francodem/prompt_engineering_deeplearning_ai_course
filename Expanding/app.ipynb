{
 "cells": [
  {
   "cell_type": "code",
   "execution_count": 8,
   "metadata": {},
   "outputs": [],
   "source": [
    "import openai\n",
    "from dotenv import load_dotenv\n",
    "from os import getenv\n",
    "\n",
    "# Getting environment variables\n",
    "load_dotenv()\n",
    "\n",
    "# Setting openai api key\n",
    "openai.api_key = getenv('OPENAI_API_KEY')\n",
    "\n",
    "\n",
    "def get_completion(prompt, model='gpt-3.5-turbo', temperature=0):\n",
    "    messages = [{'role': 'user', 'content': prompt}]\n",
    "    response = openai.ChatCompletion.create(\n",
    "        model=model,\n",
    "        messages=messages,\n",
    "        temperature=temperature\n",
    "    )\n",
    "    \n",
    "    return response.choices[0].message['content']"
   ]
  },
  {
   "cell_type": "code",
   "execution_count": 3,
   "metadata": {},
   "outputs": [],
   "source": [
    "# given the sentiment from the lesson on \"inferring\",\n",
    "# and the original customer message, customize the email\n",
    "sentiment = \"negative\"\n",
    "\n",
    "# review for a blender\n",
    "review = f\"\"\"\n",
    "So, they still had the 17 piece system on seasonal \\\n",
    "sale for around $49 in the month of November, about \\\n",
    "half off, but for some reason (call it price gouging) \\\n",
    "around the second week of December the prices all went \\\n",
    "up to about anywhere from between $70-$89 for the same \\\n",
    "system. And the 11 piece system went up around $10 or \\\n",
    "so in price also from the earlier sale price of $29. \\\n",
    "So it looks okay, but if you look at the base, the part \\\n",
    "where the blade locks into place doesn’t look as good \\\n",
    "as in previous editions from a few years ago, but I \\\n",
    "plan to be very gentle with it (example, I crush \\\n",
    "very hard items like beans, ice, rice, etc. in the \\ \n",
    "blender first then pulverize them in the serving size \\\n",
    "I want in the blender then switch to the whipping \\\n",
    "blade for a finer flour, and use the cross cutting blade \\\n",
    "first when making smoothies, then use the flat blade \\\n",
    "if I need them finer/less pulpy). Special tip when making \\\n",
    "smoothies, finely cut and freeze the fruits and \\\n",
    "vegetables (if using spinach-lightly stew soften the \\ \n",
    "spinach then freeze until ready for use-and if making \\\n",
    "sorbet, use a small to medium sized food processor) \\ \n",
    "that you plan to use that way you can avoid adding so \\\n",
    "much ice if at all-when making your smoothie. \\\n",
    "After about a year, the motor was making a funny noise. \\\n",
    "I called customer service but the warranty expired \\\n",
    "already, so I had to buy another one. FYI: The overall \\\n",
    "quality has gone done in these types of products, so \\\n",
    "they are kind of counting on brand recognition and \\\n",
    "consumer loyalty to maintain sales. Got it in about \\\n",
    "two days.\n",
    "\"\"\""
   ]
  },
  {
   "cell_type": "code",
   "execution_count": 10,
   "metadata": {},
   "outputs": [
    {
     "name": "stdout",
     "output_type": "stream",
     "text": [
      "Dear Valued Customer,\n",
      "\n",
      "Thank you for taking the time to share your review with us. We appreciate your feedback and apologize for any inconvenience you may have experienced.\n",
      "\n",
      "We are sorry to hear about the price increase you noticed in December. We strive to provide competitive prices for our valued customers, and we understand your disappointment. If you have any further concerns regarding pricing, we encourage you to reach out to our customer service team who will be happy to assist you.\n",
      "\n",
      "We also appreciate your feedback regarding the base of the system. We continuously work to improve the quality of our products, and your comments will be taken into consideration for future enhancements.\n",
      "\n",
      "We apologize for any inconvenience caused by the motor issue you encountered. Our customer service team is available to assist you with any product-related concerns, even if the warranty has expired. Please feel free to contact them for further assistance.\n",
      "\n",
      "Thank you once again for your review. We value your loyalty and appreciate your support. If you have any further questions or need any assistance, please do not hesitate to reach out to us.\n",
      "\n",
      "Best regards,\n",
      "\n",
      "AI customer agent\n"
     ]
    }
   ],
   "source": [
    "prompt = f\"\"\"\n",
    "You are a customer service AI assistant.\n",
    "Your task is to send an email reply to a valued customer.\n",
    "Given the customer email delimited by ```, \\\n",
    "Generate a reply to thank the customer for their review.\n",
    "If the sentiment is positive or neutral, thank them for \\\n",
    "their review.\n",
    "If the sentiment is negative, apologize and suggest that \\\n",
    "they can reach out to customer service. \n",
    "Make sure to use specific details from the review.\n",
    "Write in a concise and professional tone.\n",
    "Sign the email as `AI customer agent`.\n",
    "Customer review: ```{review}```\n",
    "Review sentiment: {sentiment}\n",
    "\"\"\"\n",
    "response = get_completion(prompt)\n",
    "response_1 = response\n",
    "print(response)"
   ]
  },
  {
   "cell_type": "code",
   "execution_count": 16,
   "metadata": {},
   "outputs": [
    {
     "name": "stdout",
     "output_type": "stream",
     "text": [
      "Dear Valued Customer,\n",
      "\n",
      "Thank you for taking the time to review our product. We appreciate your feedback and apologize for any inconvenience you experienced with the pricing and the quality of the base of our 17 piece system.\n",
      "\n",
      "We strive to provide competitive pricing for our products, but it seems there was a sudden increase in prices during the second week of December. We apologize for any confusion or frustration this may have caused you. We will review our pricing policies to ensure this does not happen again in the future.\n",
      "\n",
      "Regarding the quality of the base, we understand your concerns. We are continuously working on improving and enhancing our products based on customer feedback. Your feedback has been noted, and we appreciate your gentleness in handling the appliance.\n",
      "\n",
      "In terms of customer service, we apologize if you did not receive the assistance you needed when contacting our team. We highly recommend reaching out to our customer service department again, as they may be able to assist you further with any issues you encounter. They can be reached at [customer service contact information].\n",
      "\n",
      "We value your loyalty as a customer and appreciate your choice in our brand. If there is anything else we can assist you with, please do not hesitate to reach out.\n",
      "\n",
      "Thank you again for your detailed review. We truly value your feedback and will use it to improve our products and services.\n",
      "\n",
      "Sincerely,\n",
      "\n",
      "AI customer agent\n"
     ]
    }
   ],
   "source": [
    "prompt = f\"\"\"\n",
    "You are a customer service AI assistant.\n",
    "Your task is to send an email reply to a valued customer.\n",
    "Given the customer email delimited by ```, \\\n",
    "Generate a reply to thank the customer for their review.\n",
    "If the sentiment is positive or neutral, thank them for \\\n",
    "their review.\n",
    "If the sentiment is negative, apologize and suggest that \\\n",
    "they can reach out to customer service. \n",
    "Make sure to use specific details from the review.\n",
    "Write in a concise and professional tone.\n",
    "Sign the email as `AI customer agent`.\n",
    "Customer review: ```{review}```\n",
    "Review sentiment: {sentiment}\n",
    "\"\"\"\n",
    "response = get_completion(prompt, temperature=1)\n",
    "print(response)"
   ]
  },
  {
   "cell_type": "code",
   "execution_count": 18,
   "metadata": {},
   "outputs": [
    {
     "data": {
      "text/markdown": [
       "Dear Valued Customer, \n",
       "\n",
       "Thank you for taking the time to <span style='color:green;font-weight:700;'>share your </span>review <span style='color:red;font-weight:700;text-decoration:line-through;'>our product. </span><span style='color:green;font-weight:700;'>with us. </span>We appreciate your feedback and apologize for any inconvenience you <span style='color:red;font-weight:700;text-decoration:line-through;'>experienced with the pricing and the quality of the base of our 17 piece system. ¶ </span><span style='color:green;font-weight:700;'>may have experienced. </span>\n",
       "\n",
       "<span style='color:green;font-weight:700;'>We are sorry to hear about the price increase you noticed in December. </span>We strive to provide competitive <span style='color:red;font-weight:700;text-decoration:line-through;'>pricing </span><span style='color:green;font-weight:700;'>prices </span>for our <span style='color:red;font-weight:700;text-decoration:line-through;'>products, but it seems there was a sudden increase in prices during the second week of December. We apologize for any confusion or frustration this may have caused you. We will review our pricing policies to ensure this does not happen again in the future. ¶ Regarding the quality of the base, </span><span style='color:green;font-weight:700;'>valued customers, and </span>we understand your <span style='color:red;font-weight:700;text-decoration:line-through;'>concerns. We are continuously working on improving and enhancing our products based on customer feedback. Your feedback has been noted, and </span><span style='color:green;font-weight:700;'>disappointment. If you have any further concerns regarding pricing, </span>we <span style='color:red;font-weight:700;text-decoration:line-through;'>appreciate your gentleness in handling the appliance. ¶ In terms of customer service, we apologize if you did not receive the assistance you needed when contacting our team. We highly recommend reaching </span><span style='color:green;font-weight:700;'>encourage you to reach </span>out to our customer service <span style='color:red;font-weight:700;text-decoration:line-through;'>department again, as they may </span><span style='color:green;font-weight:700;'>team who will </span>be <span style='color:red;font-weight:700;text-decoration:line-through;'>able </span><span style='color:green;font-weight:700;'>happy </span>to assist <span style='color:red;font-weight:700;text-decoration:line-through;'>you </span><span style='color:green;font-weight:700;'>you. </span>\n",
       "\n",
       "<span style='color:green;font-weight:700;'>We also appreciate your feedback regarding the base of the system. We continuously work to improve the quality of our products, and your comments will be taken into consideration for future enhancements. </span>\n",
       "\n",
       "<span style='color:green;font-weight:700;'>We apologize for any inconvenience caused by the motor issue you encountered. Our customer service team is available to assist you with any product-related concerns, even if the warranty has expired. Please feel free to contact them for </span>further <span style='color:red;font-weight:700;text-decoration:line-through;'>with any issues you encounter. They can be reached at [customer service contact information]. ¶ </span><span style='color:green;font-weight:700;'>assistance. </span>\n",
       "\n",
       "<span style='color:green;font-weight:700;'>Thank you once again for your review. </span>We value your loyalty <span style='color:red;font-weight:700;text-decoration:line-through;'>as a customer </span>and appreciate your <span style='color:red;font-weight:700;text-decoration:line-through;'>choice in our brand. </span><span style='color:green;font-weight:700;'>support. </span>If <span style='color:red;font-weight:700;text-decoration:line-through;'>there is anything else we can assist you with, </span><span style='color:green;font-weight:700;'>you have any further questions or need any assistance, </span>please do not hesitate to reach <span style='color:red;font-weight:700;text-decoration:line-through;'>out. ¶ Thank you again for your detailed review. We truly value your feedback and will use it to improve our products and services. ¶ Sincerely, </span><span style='color:green;font-weight:700;'>out to us. </span>\n",
       "\n",
       "<span style='color:green;font-weight:700;'>Best regards, </span>\n",
       "\n",
       "AI customer agent"
      ],
      "text/plain": [
       "<IPython.core.display.Markdown object>"
      ]
     },
     "metadata": {},
     "output_type": "display_data"
    }
   ],
   "source": [
    "from redlines import Redlines\n",
    "from IPython.display import display, Markdown\n",
    "\n",
    "diff = Redlines(response, response_1)\n",
    "display(Markdown(diff.output_markdown))"
   ]
  }
 ],
 "metadata": {
  "kernelspec": {
   "display_name": "env",
   "language": "python",
   "name": "python3"
  },
  "language_info": {
   "codemirror_mode": {
    "name": "ipython",
    "version": 3
   },
   "file_extension": ".py",
   "mimetype": "text/x-python",
   "name": "python",
   "nbconvert_exporter": "python",
   "pygments_lexer": "ipython3",
   "version": "3.9.13"
  },
  "orig_nbformat": 4
 },
 "nbformat": 4,
 "nbformat_minor": 2
}
