{
 "cells": [
  {
   "cell_type": "code",
   "execution_count": 27,
   "metadata": {},
   "outputs": [
    {
     "name": "stdout",
     "output_type": "stream",
     "text": [
      "Requirement already satisfied: redlines in /Users/franciscomorenoq/Desktop/chatGPT_project/env/lib/python3.9/site-packages (0.4.0)\n",
      "Requirement already satisfied: rich<14.0.0,>=13.3.5 in /Users/franciscomorenoq/Desktop/chatGPT_project/env/lib/python3.9/site-packages (from redlines) (13.5.2)\n",
      "Requirement already satisfied: click<9.0.0,>=8.1.3 in /Users/franciscomorenoq/Desktop/chatGPT_project/env/lib/python3.9/site-packages (from redlines) (8.1.7)\n",
      "Requirement already satisfied: rich-click<2.0.0,>=1.6.1 in /Users/franciscomorenoq/Desktop/chatGPT_project/env/lib/python3.9/site-packages (from redlines) (1.6.1)\n",
      "Requirement already satisfied: pygments<3.0.0,>=2.13.0 in /Users/franciscomorenoq/Desktop/chatGPT_project/env/lib/python3.9/site-packages (from rich<14.0.0,>=13.3.5->redlines) (2.16.1)\n",
      "Requirement already satisfied: markdown-it-py>=2.2.0 in /Users/franciscomorenoq/Desktop/chatGPT_project/env/lib/python3.9/site-packages (from rich<14.0.0,>=13.3.5->redlines) (3.0.0)\n",
      "Requirement already satisfied: mdurl~=0.1 in /Users/franciscomorenoq/Desktop/chatGPT_project/env/lib/python3.9/site-packages (from markdown-it-py>=2.2.0->rich<14.0.0,>=13.3.5->redlines) (0.1.2)\n",
      "\u001b[33mWARNING: You are using pip version 22.0.4; however, version 23.2.1 is available.\n",
      "You should consider upgrading via the '/Users/franciscomorenoq/Desktop/chatGPT_project/env/bin/python3.9 -m pip install --upgrade pip' command.\u001b[0m\u001b[33m\n",
      "\u001b[0m"
     ]
    }
   ],
   "source": [
    "!pip install redlines"
   ]
  },
  {
   "cell_type": "code",
   "execution_count": 1,
   "metadata": {},
   "outputs": [],
   "source": [
    "import openai\n",
    "from dotenv import load_dotenv\n",
    "from os import getenv\n",
    "\n",
    "# Getting environment variables\n",
    "load_dotenv()\n",
    "\n",
    "# Setting openai api key\n",
    "openai.api_key = getenv('OPENAI_API_KEY')\n",
    "\n",
    "\n",
    "def get_completion(prompt, model='gpt-3.5-turbo'):\n",
    "    messages = [{'role': 'user', 'content': prompt}]\n",
    "    response = openai.ChatCompletion.create(\n",
    "        model=model,\n",
    "        messages=messages,\n",
    "        temperature=0\n",
    "    )\n",
    "    \n",
    "    return response.choices[0].message['content']"
   ]
  },
  {
   "cell_type": "code",
   "execution_count": 2,
   "metadata": {},
   "outputs": [
    {
     "name": "stdout",
     "output_type": "stream",
     "text": [
      "Hola, me gustaría ordenar una licuadora.\n"
     ]
    }
   ],
   "source": [
    "prompt = f\"\"\"\n",
    "Translate the following English text to Spanish: \\\n",
    "```Hi, I would like to order a blender```\n",
    "\"\"\"\n",
    "response = get_completion(prompt=prompt)\n",
    "print(response)"
   ]
  },
  {
   "cell_type": "code",
   "execution_count": 6,
   "metadata": {},
   "outputs": [
    {
     "name": "stdout",
     "output_type": "stream",
     "text": [
      "Spanish: Hola, me gustaría ordenar un baloncesto.\n",
      "French: Bonjour, j'aimerais commander un ballon de basket.\n",
      "English Pirate: Ahoy, I be wantin' to order a backetball.\n"
     ]
    }
   ],
   "source": [
    "prompt = f\"\"\"\n",
    "Translate the following English text to Spanish, to French, and English pirate: \\\n",
    "```Hi, I would like to order a backetball```\n",
    "\"\"\"\n",
    "response = get_completion(prompt=prompt)\n",
    "print(response)"
   ]
  },
  {
   "cell_type": "code",
   "execution_count": 7,
   "metadata": {},
   "outputs": [
    {
     "name": "stdout",
     "output_type": "stream",
     "text": [
      "Formal: ¿Le gustaría ordenar una almohada?\n",
      "Informal: ¿Te gustaría ordenar una almohada?\n"
     ]
    }
   ],
   "source": [
    "prompt = f\"\"\"\n",
    "Translate the following English text to Spanish in both the formal and informal forms: \\\n",
    "```Would you like to order a pillow?```\n",
    "\"\"\"\n",
    "response = get_completion(prompt=prompt)\n",
    "print(response)"
   ]
  },
  {
   "cell_type": "code",
   "execution_count": 8,
   "metadata": {},
   "outputs": [],
   "source": [
    "user_messages = [\n",
    "  \"La performance du système est plus lente que d'habitude.\",  # System performance is slower than normal         \n",
    "  \"Mi monitor tiene píxeles que no se iluminan.\",              # My monitor has pixels that are not lighting\n",
    "  \"Il mio mouse non funziona\",                                 # My mouse is not working\n",
    "  \"Mój klawisz Ctrl jest zepsuty\",                             # My keyboard has a broken control key\n",
    "  \"我的屏幕在闪烁\"                                               # My screen is flashing\n",
    "] "
   ]
  },
  {
   "cell_type": "code",
   "execution_count": 11,
   "metadata": {},
   "outputs": [
    {
     "name": "stdout",
     "output_type": "stream",
     "text": [
      "Original message (The language is French.): La performance du système est plus lente que d'habitude.\n",
      "The performance of the system is slower than usual.\n",
      "\n",
      "시스템의 성능이 평소보다 느립니다. \n",
      "\n",
      "Original message (The language is Spanish.): Mi monitor tiene píxeles que no se iluminan.\n",
      "English: \"My monitor has pixels that do not light up.\"\n",
      "\n",
      "Korean: \"내 모니터에는 밝아지지 않는 픽셀이 있습니다.\" \n",
      "\n",
      "Original message (The language is Italian.): Il mio mouse non funziona\n",
      "English: \"My mouse is not working.\"\n",
      "Korean: \"내 마우스가 작동하지 않습니다.\" \n",
      "\n",
      "Original message (The language is Polish.): Mój klawisz Ctrl jest zepsuty\n",
      "English: \"My Ctrl key is broken\"\n",
      "Korean: \"내 Ctrl 키가 고장 났어요\" \n",
      "\n",
      "Original message (The language is Chinese.): 我的屏幕在闪烁\n",
      "English: My screen is flickering.\n",
      "Korean: 내 화면이 깜박거립니다. \n",
      "\n"
     ]
    }
   ],
   "source": [
    "for issue in user_messages:\n",
    "    prompt = f\"Tell me what language this is: ```{issue}```\"\n",
    "    lang = get_completion(prompt)\n",
    "    print(f\"Original message ({lang}): {issue}\")\n",
    "\n",
    "    prompt = f\"\"\"\n",
    "    Translate the following  text to English \\\n",
    "    and Korean: ```{issue}```\n",
    "    \"\"\"\n",
    "    response = get_completion(prompt)\n",
    "    print(response, \"\\n\")"
   ]
  },
  {
   "cell_type": "code",
   "execution_count": 12,
   "metadata": {},
   "outputs": [
    {
     "name": "stdout",
     "output_type": "stream",
     "text": [
      "Dear Sir/Madam,\n",
      "\n",
      "I hope this letter finds you well. My name is Joe, and I am writing to bring your attention to a specification document regarding a standing lamp. \n",
      "\n",
      "I kindly request that you take a moment to review the attached spec, as it contains important details about the standing lamp in question. \n",
      "\n",
      "Thank you for your time and consideration. I look forward to hearing from you soon.\n",
      "\n",
      "Sincerely,\n",
      "Joe\n"
     ]
    }
   ],
   "source": [
    "prompt = f\"\"\"\n",
    "Translate the following from slang to a business letter: \n",
    "'Dude, This is Joe, check out this spec on this standing lamp.'\n",
    "\"\"\"\n",
    "response = get_completion(prompt)\n",
    "print(response)"
   ]
  },
  {
   "cell_type": "code",
   "execution_count": 13,
   "metadata": {},
   "outputs": [
    {
     "name": "stdout",
     "output_type": "stream",
     "text": [
      "<!DOCTYPE html>\n",
      "<html>\n",
      "<head>\n",
      "<style>\n",
      "table {\n",
      "  font-family: arial, sans-serif;\n",
      "  border-collapse: collapse;\n",
      "  width: 100%;\n",
      "}\n",
      "\n",
      "td, th {\n",
      "  border: 1px solid #dddddd;\n",
      "  text-align: left;\n",
      "  padding: 8px;\n",
      "}\n",
      "\n",
      "tr:nth-child(even) {\n",
      "  background-color: #dddddd;\n",
      "}\n",
      "</style>\n",
      "</head>\n",
      "<body>\n",
      "\n",
      "<h2>Restaurant Employees</h2>\n",
      "\n",
      "<table>\n",
      "  <tr>\n",
      "    <th>Name</th>\n",
      "    <th>Email</th>\n",
      "  </tr>\n",
      "  <tr>\n",
      "    <td>Shyam</td>\n",
      "    <td>shyamjaiswal@gmail.com</td>\n",
      "  </tr>\n",
      "  <tr>\n",
      "    <td>Bob</td>\n",
      "    <td>bob32@gmail.com</td>\n",
      "  </tr>\n",
      "  <tr>\n",
      "    <td>Jai</td>\n",
      "    <td>jai87@gmail.com</td>\n",
      "  </tr>\n",
      "</table>\n",
      "\n",
      "</body>\n",
      "</html>\n"
     ]
    }
   ],
   "source": [
    "data_json = { \"resturant employees\" :[ \n",
    "    {\"name\":\"Shyam\", \"email\":\"shyamjaiswal@gmail.com\"},\n",
    "    {\"name\":\"Bob\", \"email\":\"bob32@gmail.com\"},\n",
    "    {\"name\":\"Jai\", \"email\":\"jai87@gmail.com\"}\n",
    "]}\n",
    "\n",
    "prompt = f\"\"\"\n",
    "Translate the following python dictionary from JSON to an HTML \\\n",
    "table with column headers and title: {data_json}\n",
    "\"\"\"\n",
    "response = get_completion(prompt)\n",
    "print(response)"
   ]
  },
  {
   "cell_type": "code",
   "execution_count": 19,
   "metadata": {},
   "outputs": [
    {
     "data": {
      "text/html": [
       "<!DOCTYPE html>\n",
       "<html>\n",
       "<head>\n",
       "<style>\n",
       "table {\n",
       "  font-family: arial, sans-serif;\n",
       "  border-collapse: collapse;\n",
       "  width: 100%;\n",
       "}\n",
       "\n",
       "td, th {\n",
       "  border: 1px solid #dddddd;\n",
       "  text-align: left;\n",
       "  padding: 8px;\n",
       "}\n",
       "\n",
       "tr:nth-child(even) {\n",
       "  background-color: #dddddd;\n",
       "}\n",
       "</style>\n",
       "</head>\n",
       "<body>\n",
       "\n",
       "<h2>Restaurant Employees</h2>\n",
       "\n",
       "<table>\n",
       "  <tr>\n",
       "    <th>Name</th>\n",
       "    <th>Email</th>\n",
       "  </tr>\n",
       "  <tr>\n",
       "    <td>Shyam</td>\n",
       "    <td>shyamjaiswal@gmail.com</td>\n",
       "  </tr>\n",
       "  <tr>\n",
       "    <td>Bob</td>\n",
       "    <td>bob32@gmail.com</td>\n",
       "  </tr>\n",
       "  <tr>\n",
       "    <td>Jai</td>\n",
       "    <td>jai87@gmail.com</td>\n",
       "  </tr>\n",
       "</table>\n",
       "\n",
       "</body>\n",
       "</html>"
      ],
      "text/plain": [
       "<IPython.core.display.HTML object>"
      ]
     },
     "metadata": {},
     "output_type": "display_data"
    }
   ],
   "source": [
    "from IPython.display import display, HTML\n",
    "display(HTML(response))"
   ]
  },
  {
   "cell_type": "code",
   "execution_count": 20,
   "metadata": {},
   "outputs": [
    {
     "name": "stdout",
     "output_type": "stream",
     "text": [
      "The girl with the black and white puppies has a ball.\n",
      "No errors found.\n",
      "No errors found.\n",
      "Their goes my freedom. There going to bring they’re suitcases.\n",
      "\n",
      "No errors found.\n",
      "\n",
      "Rewritten version:\n",
      "Their goes my freedom. They're going to bring their suitcases.\n",
      "You're going to need your notebook.\n",
      "That medicine affects my ability to sleep. Have you heard of the butterfly effect?\n",
      "This phrase is to check chatGPT for spelling ability.\n"
     ]
    }
   ],
   "source": [
    "text = [ \n",
    "  \"The girl with the black and white puppies have a ball.\",  # The girl has a ball.\n",
    "  \"Yolanda has her notebook.\", # ok\n",
    "  \"Its going to be a long day. Does the car need it’s oil changed?\",  # Homonyms\n",
    "  \"Their goes my freedom. There going to bring they’re suitcases.\",  # Homonyms\n",
    "  \"Your going to need you’re notebook.\",  # Homonyms\n",
    "  \"That medicine effects my ability to sleep. Have you heard of the butterfly affect?\", # Homonyms\n",
    "  \"This phrase is to cherck chatGPT for speling abilitty\"  # spelling\n",
    "]\n",
    "for t in text:\n",
    "    prompt = f\"\"\"Proofread and correct the following text\n",
    "    and rewrite the corrected version. If you don't find\n",
    "    and errors, just say \"No errors found\". Don't use \n",
    "    any punctuation around the text:\n",
    "    ```{t}```\"\"\"\n",
    "    response = get_completion(prompt)\n",
    "    print(response)"
   ]
  },
  {
   "cell_type": "code",
   "execution_count": 21,
   "metadata": {},
   "outputs": [
    {
     "name": "stdout",
     "output_type": "stream",
     "text": [
      "Got this for my daughter for her birthday because she keeps taking mine from my room. Yes, adults also like pandas too. She takes it everywhere with her, and it's super soft and cute. However, one of the ears is a bit lower than the other, and I don't think that was designed to be asymmetrical. Additionally, it's a bit small for what I paid for it. I believe there might be other options that are bigger for the same price. On the positive side, it arrived a day earlier than expected, so I got to play with it myself before I gave it to my daughter.\n"
     ]
    }
   ],
   "source": [
    "text = f\"\"\"\n",
    "Got this for my daughter for her birthday cuz she keeps taking \\\n",
    "mine from my room.  Yes, adults also like pandas too.  She takes \\\n",
    "it everywhere with her, and it's super soft and cute.  One of the \\\n",
    "ears is a bit lower than the other, and I don't think that was \\\n",
    "designed to be asymmetrical. It's a bit small for what I paid for it \\\n",
    "though. I think there might be other options that are bigger for \\\n",
    "the same price.  It arrived a day earlier than expected, so I got \\\n",
    "to play with it myself before I gave it to my daughter.\n",
    "\"\"\"\n",
    "prompt = f\"proofread and correct this review: ```{text}```\"\n",
    "response = get_completion(prompt)\n",
    "print(response)"
   ]
  },
  {
   "cell_type": "code",
   "execution_count": 26,
   "metadata": {},
   "outputs": [
    {
     "data": {
      "text/markdown": [
       "Got this for my daughter for her birthday <span style='color:red;font-weight:700;text-decoration:line-through;'>cuz </span><span style='color:green;font-weight:700;'>because </span>she keeps taking mine from my <span style='color:red;font-weight:700;text-decoration:line-through;'>room.  </span><span style='color:green;font-weight:700;'>room. </span>Yes, adults also like pandas <span style='color:red;font-weight:700;text-decoration:line-through;'>too.  </span><span style='color:green;font-weight:700;'>too. </span>She takes it everywhere with her, and it's super soft and <span style='color:red;font-weight:700;text-decoration:line-through;'>cute.  One </span><span style='color:green;font-weight:700;'>cute. However, one </span>of the ears is a bit lower than the other, and I don't think that was designed to be asymmetrical. <span style='color:red;font-weight:700;text-decoration:line-through;'>It's </span><span style='color:green;font-weight:700;'>Additionally, it's </span>a bit small for what I paid for <span style='color:red;font-weight:700;text-decoration:line-through;'>it though. </span><span style='color:green;font-weight:700;'>it. </span>I <span style='color:red;font-weight:700;text-decoration:line-through;'>think </span><span style='color:green;font-weight:700;'>believe </span>there might be other options that are bigger for the same <span style='color:red;font-weight:700;text-decoration:line-through;'>price.  It </span><span style='color:green;font-weight:700;'>price. On the positive side, it </span>arrived a day earlier than expected, so I got to play with it myself before I gave it to my daughter."
      ],
      "text/plain": [
       "<IPython.core.display.Markdown object>"
      ]
     },
     "metadata": {},
     "output_type": "display_data"
    }
   ],
   "source": [
    "from redlines import Redlines\n",
    "\n",
    "diff = Redlines(text,response)\n",
    "display(Markdown(diff.output_markdown))"
   ]
  },
  {
   "cell_type": "code",
   "execution_count": 28,
   "metadata": {},
   "outputs": [
    {
     "data": {
      "text/markdown": [
       "**Review of a Panda Plush Toy**\n",
       "\n",
       "I purchased this adorable panda plush toy as a birthday gift for my daughter, who has a penchant for taking my belongings from my room. Contrary to popular belief, adults can also appreciate the charm of pandas. This cuddly companion has quickly become her constant companion, accompanying her wherever she goes. Its irresistibly soft and cute appearance is truly captivating.\n",
       "\n",
       "However, upon closer inspection, I noticed a slight asymmetry in the placement of the ears. While this may not have been intentional, it adds a unique touch to the toy's design. Nevertheless, considering the price I paid, I expected a slightly larger size. It is worth noting that there may be alternative options available at the same price point that offer a more substantial presence.\n",
       "\n",
       "On a positive note, the delivery of the panda plush toy exceeded my expectations. It arrived a day earlier than anticipated, allowing me the opportunity to personally experience its delightful qualities before presenting it to my daughter. This unexpected bonus further enhanced my overall satisfaction with the purchase.\n",
       "\n",
       "In conclusion, despite the minor imperfections and size discrepancy, this panda plush toy has proven to be a beloved companion for my daughter. Its undeniable charm and exceptional softness make it a delightful addition to any collection. For those seeking a larger option, it may be worth exploring alternative choices within the same price range. Nonetheless, the prompt delivery and the joy it has brought to my daughter's life make this purchase well worth it."
      ],
      "text/plain": [
       "<IPython.core.display.Markdown object>"
      ]
     },
     "metadata": {},
     "output_type": "display_data"
    }
   ],
   "source": [
    "prompt = f\"\"\"\n",
    "proofread and correct this review. Make it more compelling. \n",
    "Ensure it follows APA style guide and targets an advanced reader. \n",
    "Output in markdown format.\n",
    "Text: ```{text}```\n",
    "\"\"\"\n",
    "response = get_completion(prompt)\n",
    "display(Markdown(response))"
   ]
  },
  {
   "cell_type": "code",
   "execution_count": 29,
   "metadata": {},
   "outputs": [
    {
     "data": {
      "text/markdown": [
       "<span style='color:red;font-weight:700;text-decoration:line-through;'>Got this </span><span style='color:green;font-weight:700;'>**Review of a Panda Plush Toy** </span>\n",
       "\n",
       "<span style='color:green;font-weight:700;'>I purchased this adorable panda plush toy as a birthday gift </span>for my <span style='color:red;font-weight:700;text-decoration:line-through;'>daughter </span><span style='color:green;font-weight:700;'>daughter, who has a penchant </span>for <span style='color:green;font-weight:700;'>taking my belongings from my room. Contrary to popular belief, adults can also appreciate the charm of pandas. This cuddly companion has quickly become </span>her <span style='color:red;font-weight:700;text-decoration:line-through;'>birthday cuz </span><span style='color:green;font-weight:700;'>constant companion, accompanying her wherever </span>she <span style='color:red;font-weight:700;text-decoration:line-through;'>keeps taking mine from my room.  Yes, adults also like pandas too.  She takes it everywhere with her, and it's super </span><span style='color:green;font-weight:700;'>goes. Its irresistibly </span>soft and <span style='color:red;font-weight:700;text-decoration:line-through;'>cute.  One of the ears </span><span style='color:green;font-weight:700;'>cute appearance </span>is <span style='color:red;font-weight:700;text-decoration:line-through;'>a bit lower than the other, and I don't think </span><span style='color:green;font-weight:700;'>truly captivating. </span>\n",
       "\n",
       "<span style='color:green;font-weight:700;'>However, upon closer inspection, I noticed a slight asymmetry in the placement of the ears. While this may not have been intentional, it adds a unique touch to the toy's design. Nevertheless, considering the price I paid, I expected a slightly larger size. It is worth noting </span>that <span style='color:red;font-weight:700;text-decoration:line-through;'>was designed to </span><span style='color:green;font-weight:700;'>there may </span>be <span style='color:red;font-weight:700;text-decoration:line-through;'>asymmetrical. It's a bit small for what I paid for it though. I think there might be other </span><span style='color:green;font-weight:700;'>alternative </span>options <span style='color:green;font-weight:700;'>available at the same price point </span>that <span style='color:red;font-weight:700;text-decoration:line-through;'>are bigger for the same price.  </span><span style='color:green;font-weight:700;'>offer a more substantial presence. </span>\n",
       "\n",
       "<span style='color:green;font-weight:700;'>On a positive note, the delivery of the panda plush toy exceeded my expectations. </span>It arrived a day earlier than <span style='color:red;font-weight:700;text-decoration:line-through;'>expected, so I got to play </span><span style='color:green;font-weight:700;'>anticipated, allowing me the opportunity to personally experience its delightful qualities before presenting it to my daughter. This unexpected bonus further enhanced my overall satisfaction </span>with <span style='color:red;font-weight:700;text-decoration:line-through;'>it myself before I gave it to my daughter.</span><span style='color:green;font-weight:700;'>the purchase. </span>\n",
       "\n",
       "<span style='color:green;font-weight:700;'>In conclusion, despite the minor imperfections and size discrepancy, this panda plush toy has proven to be a beloved companion for my daughter. Its undeniable charm and exceptional softness make it a delightful addition to any collection. For those seeking a larger option, it may be worth exploring alternative choices within the same price range. Nonetheless, the prompt delivery and the joy it has brought to my daughter's life make this purchase well worth it.</span>"
      ],
      "text/plain": [
       "<IPython.core.display.Markdown object>"
      ]
     },
     "metadata": {},
     "output_type": "display_data"
    }
   ],
   "source": [
    "from redlines import Redlines\n",
    "\n",
    "diff = Redlines(text,response)\n",
    "display(Markdown(diff.output_markdown))"
   ]
  }
 ],
 "metadata": {
  "kernelspec": {
   "display_name": "env",
   "language": "python",
   "name": "python3"
  },
  "language_info": {
   "codemirror_mode": {
    "name": "ipython",
    "version": 3
   },
   "file_extension": ".py",
   "mimetype": "text/x-python",
   "name": "python",
   "nbconvert_exporter": "python",
   "pygments_lexer": "ipython3",
   "version": "3.9.13"
  },
  "orig_nbformat": 4
 },
 "nbformat": 4,
 "nbformat_minor": 2
}
